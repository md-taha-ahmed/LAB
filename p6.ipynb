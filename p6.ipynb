{
 "cells": [
  {
   "cell_type": "markdown",
   "metadata": {},
   "source": [
    "#### 6- Write a program to implement the ***naïve Bayesian*** classifier for a sample training data set stored as a .CSV file. Compute the accuracy of the classifier, considering few test data sets."
   ]
  },
  {
   "cell_type": "code",
   "execution_count": 8,
   "metadata": {},
   "outputs": [
    {
     "data": {
      "text/html": [
       "<div>\n",
       "<style scoped>\n",
       "    .dataframe tbody tr th:only-of-type {\n",
       "        vertical-align: middle;\n",
       "    }\n",
       "\n",
       "    .dataframe tbody tr th {\n",
       "        vertical-align: top;\n",
       "    }\n",
       "\n",
       "    .dataframe thead th {\n",
       "        text-align: right;\n",
       "    }\n",
       "</style>\n",
       "<table border=\"1\" class=\"dataframe\">\n",
       "  <thead>\n",
       "    <tr style=\"text-align: right;\">\n",
       "      <th></th>\n",
       "      <th>color</th>\n",
       "      <th>type</th>\n",
       "      <th>origin</th>\n",
       "      <th>stolen</th>\n",
       "    </tr>\n",
       "  </thead>\n",
       "  <tbody>\n",
       "    <tr>\n",
       "      <th>0</th>\n",
       "      <td>red</td>\n",
       "      <td>sports</td>\n",
       "      <td>domestic</td>\n",
       "      <td>yes</td>\n",
       "    </tr>\n",
       "    <tr>\n",
       "      <th>1</th>\n",
       "      <td>red</td>\n",
       "      <td>sports</td>\n",
       "      <td>imported</td>\n",
       "      <td>no</td>\n",
       "    </tr>\n",
       "    <tr>\n",
       "      <th>2</th>\n",
       "      <td>yellow</td>\n",
       "      <td>suv</td>\n",
       "      <td>imported</td>\n",
       "      <td>yes</td>\n",
       "    </tr>\n",
       "    <tr>\n",
       "      <th>3</th>\n",
       "      <td>red</td>\n",
       "      <td>sports</td>\n",
       "      <td>domestic</td>\n",
       "      <td>yes</td>\n",
       "    </tr>\n",
       "    <tr>\n",
       "      <th>4</th>\n",
       "      <td>red</td>\n",
       "      <td>sports</td>\n",
       "      <td>imported</td>\n",
       "      <td>no</td>\n",
       "    </tr>\n",
       "    <tr>\n",
       "      <th>5</th>\n",
       "      <td>yellow</td>\n",
       "      <td>suv</td>\n",
       "      <td>imported</td>\n",
       "      <td>yes</td>\n",
       "    </tr>\n",
       "    <tr>\n",
       "      <th>6</th>\n",
       "      <td>yellow</td>\n",
       "      <td>suv</td>\n",
       "      <td>imported</td>\n",
       "      <td>yes</td>\n",
       "    </tr>\n",
       "    <tr>\n",
       "      <th>7</th>\n",
       "      <td>yellow</td>\n",
       "      <td>sports</td>\n",
       "      <td>imported</td>\n",
       "      <td>no</td>\n",
       "    </tr>\n",
       "  </tbody>\n",
       "</table>\n",
       "</div>"
      ],
      "text/plain": [
       "    color    type    origin stolen\n",
       "0     red  sports  domestic    yes\n",
       "1     red  sports  imported     no\n",
       "2  yellow     suv  imported    yes\n",
       "3     red  sports  domestic    yes\n",
       "4     red  sports  imported     no\n",
       "5  yellow     suv  imported    yes\n",
       "6  yellow     suv  imported    yes\n",
       "7  yellow  sports  imported     no"
      ]
     },
     "metadata": {},
     "output_type": "display_data"
    },
    {
     "name": "stdout",
     "output_type": "stream",
     "text": [
      "Enter your new car feature color,type,origin\n"
     ]
    },
    {
     "data": {
      "image/png": "[encoded data removed]",
      "text/plain": [
       "<Figure size 640x480 with 1 Axes>"
      ]
     },
     "metadata": {},
     "output_type": "display_data"
    },
    {
     "name": "stdout",
     "output_type": "stream",
     "text": [
      "Percentages_yes= 100.0 Percentage_no= 0.0\n"
     ]
    }
   ],
   "source": [
    "import numpy as np\n",
    "import pandas as pd\n",
    "import csv\n",
    "import matplotlib.pyplot as plt\n",
    "\n",
    "\n",
    "def Bayes(DATA,x,col,yescount,nocount):\n",
    "    xyes=0\n",
    "    xno=0\n",
    "    for line in DATA:\n",
    "        if line[col]==x:\n",
    "            if line[-1]=='yes':\n",
    "                xyes+=1\n",
    "            else:\n",
    "                xno+=1\n",
    "    pxyes=xyes/yescount\n",
    "    pxno=xno/nocount\n",
    "    return pxyes,pxno\n",
    "\n",
    "\n",
    "def main():\n",
    "    file=r\"data/car.csv\"\n",
    "    temp=pd.read_csv(file)\n",
    "    display(temp)\n",
    "    data=[]\n",
    "    fd=csv.reader(open(file))\n",
    "    for line in fd:\n",
    "        data.append(line)\n",
    "    DATA=data[1:]\n",
    "    n=len(DATA)\n",
    "    yescount=0\n",
    "    nocount=0\n",
    "    for line in DATA:\n",
    "        if line[-1]=='yes':\n",
    "            yescount+=1\n",
    "        else:\n",
    "            nocount+=1\n",
    "    pyes=yescount/n\n",
    "    pno=nocount/n\n",
    "    print(\"Enter your new car feature color,type,origin\")\n",
    "    x,y,z=input().split()\n",
    "    pxyes,pxno=Bayes(DATA,x,0,yescount,nocount)\n",
    "    pyyes,pyno=Bayes(DATA,y,1,yescount,nocount)\n",
    "    pzyes,pzno=Bayes(DATA,z,2,yescount,nocount)\n",
    "    resyes=pxyes*pyyes*pzyes*pyes\n",
    "    resno=pxno*pyno*pzno*pno\n",
    "    Percentageyes=(resyes/(resyes+resno))*100\n",
    "    Percentageno=(resno/(resyes+resno))*100\n",
    "    Pex=[Percentageyes,Percentageno]\n",
    "    label=[\"car_stolen%\",\"car_not_stolen%\"]\n",
    "    plt.pie(Pex,labels=label)\n",
    "    plt.show()\n",
    "    print(\"Percentages_yes=\",Percentageyes,\"Percentage_no=\",Percentageno)\n",
    "\n",
    "    \n",
    "\n",
    "main()"
   ]
  }
 ],
 "metadata": {
  "kernelspec": {
   "display_name": "Python 3.10.6 64-bit",
   "language": "python",
   "name": "python3"
  },
  "language_info": {
   "codemirror_mode": {
    "name": "ipython",
    "version": 3
   },
   "file_extension": ".py",
   "mimetype": "text/x-python",
   "name": "python",
   "nbconvert_exporter": "python",
   "pygments_lexer": "ipython3",
   "version": "3.10.6"
  },
  "orig_nbformat": 4,
  "vscode": {
   "interpreter": {
    "hash": "916dbcbb3f70747c44a77c7bcd40155683ae19c65e1c03b4aa3499c5328201f1"
   }
  }
 },
 "nbformat": 4,
 "nbformat_minor": 2
}
