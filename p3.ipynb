{
 "cells": [
  {
   "cell_type": "markdown",
   "metadata": {},
   "source": [
    "#### 3- For a given set of training data examples stored in a .CSV file, implement and demonstrate the ***Candidate-Elimination*** algorithm to output a description of the set of all hypotheses consistent with the training examples."
   ]
  },
  {
   "cell_type": "code",
   "execution_count": 1,
   "metadata": {},
   "outputs": [
    {
     "name": "stdout",
     "output_type": "stream",
     "text": [
      "------The given training examples are------\n",
      "['Sunny', 'Warm', 'Normal', 'Strong', 'Warm', 'Same', 'Yes']\n",
      "['Sunny', 'Warm', 'High', 'Strong', 'Warm', 'Same', 'Yes']\n",
      "['Rainy', 'Cold', 'High', 'Strong', 'Warm', 'Change', 'No']\n",
      "['Sunny', 'Warm', 'High', 'Strong', 'Cool', 'Change', 'Yes']\n",
      "\n",
      "------The positive examples are: Enjoy swimming----\n",
      "['Sunny', 'Warm', 'Normal', 'Strong', 'Warm', 'Same', 'Yes']\n",
      "['Sunny', 'Warm', 'High', 'Strong', 'Warm', 'Same', 'Yes']\n",
      "['Sunny', 'Warm', 'High', 'Strong', 'Cool', 'Change', 'Yes']\n",
      "\n",
      "------The negetive examples are: Enjoy swimming----\n",
      "['Rainy', 'Cold', 'High', 'Strong', 'Warm', 'Change', 'No']\n",
      "\n",
      "---- Find-s hypothesis ----\n",
      "['Sunny', 'Warm', '?', 'Strong', '?', '?', 'Yes']\n",
      "\n",
      "----The final Genralize output..........\n",
      "['Sunny', '?', '?', '?', '?', '?']\n",
      "['?', 'Warm', '?', '?', '?', '?']\n",
      "['?', '?', '?', '?', '?', '?']\n",
      "['?', '?', '?', '?', '?', '?']\n",
      "['?', '?', '?', '?', '?', '?']\n"
     ]
    }
   ],
   "source": [
    "import csv\n",
    "hypo=[]\n",
    "data=[]\n",
    "temp=[]\n",
    "file=\"data/Training_examples.csv\"\n",
    "fd = csv.reader(open(file))\n",
    "print(\"------The given training examples are------\")\t\n",
    "for line in fd:\n",
    "\tprint(line)\n",
    "\tif line[-1]== \"Yes\":\n",
    "\t\tdata.append(line)\n",
    "\tif line[-1]== \"No\":\n",
    "\t\ttemp.append(line)\n",
    "print(\"\\n------The positive examples are: Enjoy swimming----\");\n",
    "for line in data:\n",
    "\tprint(line);\n",
    "print(\"\\n------The negetive examples are: Enjoy swimming----\");\n",
    "for line in temp:\n",
    "\tprint(line);\t\n",
    "row= len(data);\n",
    "col=len(data[0]);\n",
    "for j in range(col):\t\n",
    "\thypo.append(data[0][j]);\n",
    "\n",
    "for i in range(row):\t\n",
    "\tfor j in range(col):\n",
    "\t\tif hypo[j]!=data[i][j]:\n",
    "\t\t\thypo[j]='?'\n",
    "print(\"\\n---- Find-s hypothesis ----\");\n",
    "print(hypo)\n",
    "\n",
    "print(\"\\n----The final Genralize output..........\");\n",
    "row= len(temp);\n",
    "col=len(temp[0]);\n",
    "for i in range(row):    \n",
    "    for j in range(col-1):\n",
    "        gen=['?','?','?','?','?','?']\n",
    "        if hypo[j]!=temp[i][j]:\n",
    "            gen[j]=hypo[j]\n",
    "            print(gen)"
   ]
  }
 ],
 "metadata": {
  "kernelspec": {
   "display_name": "Python 3.10.6 64-bit",
   "language": "python",
   "name": "python3"
  },
  "language_info": {
   "codemirror_mode": {
    "name": "ipython",
    "version": 3
   },
   "file_extension": ".py",
   "mimetype": "text/x-python",
   "name": "python",
   "nbconvert_exporter": "python",
   "pygments_lexer": "ipython3",
   "version": "3.10.6"
  },
  "orig_nbformat": 4,
  "vscode": {
   "interpreter": {
    "hash": "916dbcbb3f70747c44a77c7bcd40155683ae19c65e1c03b4aa3499c5328201f1"
   }
  }
 },
 "nbformat": 4,
 "nbformat_minor": 2
}
